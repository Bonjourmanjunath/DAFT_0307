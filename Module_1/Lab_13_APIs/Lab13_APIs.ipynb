{
 "cells": [
  {
   "cell_type": "code",
   "execution_count": 24,
   "id": "53577602-19b8-47ab-9077-b074b6e86b53",
   "metadata": {},
   "outputs": [
    {
     "data": {
      "text/plain": [
       "<Response [200]>"
      ]
     },
     "execution_count": 24,
     "metadata": {},
     "output_type": "execute_result"
    }
   ],
   "source": [
    "import json\n",
    "import requests\n",
    "import random\n",
    "\n",
    "\n",
    "\n",
    "\n",
    "response = requests.get('https://xkcd.com')\n",
    "response"
   ]
  },
  {
   "cell_type": "code",
   "execution_count": 21,
   "id": "78ca4316-8e8b-4769-9c20-2bfafc7b7c8e",
   "metadata": {},
   "outputs": [
    {
     "data": {
      "text/plain": [
       "{'Connection': 'keep-alive', 'Content-Length': '2958', 'Server': 'nginx', 'Content-Type': 'text/html; charset=UTF-8', 'Last-Modified': 'Tue, 25 Jul 2023 04:39:48 GMT', 'ETag': 'W/\"64bf5214-1d26\"', 'Expires': 'Tue, 25 Jul 2023 05:10:01 GMT', 'Cache-Control': 'max-age=300', 'Content-Encoding': 'gzip', 'Via': '1.1 varnish, 1.1 varnish', 'Accept-Ranges': 'bytes', 'Date': 'Tue, 25 Jul 2023 16:47:14 GMT', 'Age': '58', 'X-Served-By': 'cache-dfw-kdfw8210067-DFW, cache-par-lfpg1960057-PAR', 'X-Cache': 'HIT, HIT', 'X-Cache-Hits': '31, 1', 'X-Timer': 'S1690303635.808135,VS0,VE3', 'Vary': 'Accept-Encoding'}"
      ]
     },
     "execution_count": 21,
     "metadata": {},
     "output_type": "execute_result"
    }
   ],
   "source": [
    "\n",
    "\n",
    "response = requests.get('https://xkcd.com')\n",
    "headers = response.headers\n",
    "\n",
    "headers\n"
   ]
  },
  {
   "cell_type": "code",
   "execution_count": 22,
   "id": "be081c63-83b9-40c6-b7ed-82899efb4fb1",
   "metadata": {},
   "outputs": [
    {
     "data": {
      "text/plain": [
       "'Tue, 25 Jul 2023 05:10:01 GMT'"
      ]
     },
     "execution_count": 22,
     "metadata": {},
     "output_type": "execute_result"
    }
   ],
   "source": [
    "import requests\n",
    "\n",
    "expires_value = response.headers['Expires']\n",
    "\n",
    "\n",
    "expires_value"
   ]
  },
  {
   "cell_type": "code",
   "execution_count": 23,
   "id": "763d8381-1419-4629-8f8e-7fe777af5c5e",
   "metadata": {},
   "outputs": [
    {
     "name": "stdout",
     "output_type": "stream",
     "text": [
      "<!DOCTYPE html>\n",
      "<html>\n",
      "<head>\n",
      "<link rel=\"stylesheet\" type=\"text/css\" href=\"/s/7d94e0.css\" title=\"Default\"/>\n",
      "<title>xkcd: Anti-Vaxxers</title>\n",
      "<meta http-equiv=\"X-UA-Compatible\" content=\"IE=edge\"/>\n",
      "<link rel=\"shortcut icon\" href=\"/s/919f27.ico\" type=\"image/x-icon\"/>\n",
      "<link rel=\"icon\" href=\"/s/919f27.ico\" type=\"image/x-icon\"/>\n",
      "<link rel=\"alternate\" type=\"application/atom+xml\" title=\"Atom 1.0\" href=\"/atom.xml\"/>\n",
      "<link rel=\"alternate\" type=\"application/rss+xml\" title=\"RSS 2.0\" href=\"/rss.xml\"/>\n",
      "<!-- <script type=\"text/javascript\" src=\"/s/b66ed7.js\" async></script>\n",
      "<script type=\"text/javascript\" src=\"/s/1b9456.js\" async></script> -->\n",
      "\n",
      "<meta property=\"og:site_name\" content=\"xkcd\">\n",
      "\n",
      "<meta property=\"og:title\" content=\"Anti-Vaxxers\">\n",
      "<meta property=\"og:url\" content=\"https://xkcd.com/2806/\">\n",
      "<meta property=\"og:image\" content=\"https://imgs.xkcd.com/comics/anti_vaxxers_2x.png\">\n",
      "<meta name=\"twitter:card\" content=\"summary_large_image\">\n",
      "\n",
      "</head>\n",
      "<body>\n",
      "<div id=\"topContainer\">\n",
      "<div id=\"topLeft\">\n",
      "<ul>\n",
      "<li><a href=\"/archive\">Archive</a></li>\n",
      "<li><a href=\"https://what-if.xkcd.com\">What If?</a></li>\n",
      "<li><a rel=\"author\" href=\"/about\">About</a></li>\n",
      "<li><a href=\"/atom.xml\">Feed</a>&bull;<a href=\"/newsletter/\">Email</a></li>\n",
      "<li><a href=\"https://twitter.com/xkcd/\">TW</a>&bull;<a href=\"https://www.facebook.com/TheXKCD/\">FB</a>&bull;<a href=\"https://www.instagram.com/xkcd/\">IG</a></li>\n",
      "<li><a href=\"/books/\">-Books-</a></li>\n",
      "<li><a href=\"/what-if-2/\">What If? 2</a></li>\n",
      "<li><a href=\"/what-if/\">WI?</a>&bull;<a href=\"/thing-explainer/\">TE</a>&bull;<a href=\"/how-to/\">HT</a></li>\n",
      "</ul>\n",
      "</div>\n",
      "<div id=\"topRight\">\n",
      "<div id=\"masthead\">\n",
      "<span><a href=\"/\"><img src=\"/s/0b7742.png\" alt=\"xkcd.com logo\" height=\"83\" width=\"185\"/></a></span>\n",
      "<span id=\"slogan\">A webcomic of romance,<br/> sarcasm, math, and language.</span>\n",
      "</div>\n",
      "<div id=\"news\">\n",
      "<div id=\"xkcdNews\">\n",
      "<div id=\"countdown\" style=\"float: right; margin-right: 25px; width: 160px; height: 100px; position: relative;\"><a style=\"display: flex;\" href=\"https://xkcd.com/what-if-2/\"><img alt=\"\" style=\"width: 160px; height: 100px;\" src=\"https://xkcd.com/s/5bef6b.png\"><span style=\"position: absolute; left: 50%; top: 50%; transform: translate(-50%, -50%); padding: 0px 8px; color: black; font-family: xkcd-Regular-v3; font-size: 20px; font-variant: small-caps; letter-spacing: 1px; white-space: nowrap; background: white none repeat scroll 0% 0%; border-radius: 99px; display: none;\"></span></a></div>\n",
      "</div>\n",
      "\n",
      "</div>\n",
      "</div>\n",
      "<div id=\"bgLeft\" class=\"bg box\"></div>\n",
      "<div id=\"bgRight\" class=\"bg box\"></div>\n",
      "</div>\n",
      "<div id=\"middleContainer\" class=\"box\">\n",
      "\n",
      "<div id=\"ctitle\">Anti-Vaxxers</div>\n",
      "<ul class=\"comicNav\">\n",
      "<li><a href=\"/1/\">|&lt;</a></li>\n",
      "<li><a rel=\"prev\" href=\"/2805/\" accesskey=\"p\">&lt; Prev</a></li>\n",
      "<li><a href=\"//c.xkcd.com/random/comic/\">Random</a></li>\n",
      "<li><a rel=\"next\" href=\"#\" accesskey=\"n\">Next &gt;</a></li>\n",
      "<li><a href=\"/\">&gt;|</a></li>\n",
      "</ul>\n",
      "<div id=\"comic\">\n",
      "<img src=\"//imgs.xkcd.com/comics/anti_vaxxers.png\" title=\"The vaccine stuff seems pretty simple. But if you take a closer look at the data, it&#39;s still simple, but bigger. And slightly blurry. Might need reading glasses.\" alt=\"Anti-Vaxxers\" srcset=\"//imgs.xkcd.com/comics/anti_vaxxers_2x.png 2x\" style=\"image-orientation:none\" />\n",
      "</div>\n",
      "<ul class=\"comicNav\">\n",
      "<li><a href=\"/1/\">|&lt;</a></li>\n",
      "<li><a rel=\"prev\" href=\"/2805/\" accesskey=\"p\">&lt; Prev</a></li>\n",
      "<li><a href=\"//c.xkcd.com/random/comic/\">Random</a></li>\n",
      "<li><a rel=\"next\" href=\"#\" accesskey=\"n\">Next &gt;</a></li>\n",
      "<li><a href=\"/\">&gt;|</a></li>\n",
      "</ul>\n",
      "<br />\n",
      "Permanent link to this comic: <a href=\"https://xkcd.com/2806\">https://xkcd.com/2806/</a><br />\n",
      "Image URL (for hotlinking/embedding): <a href= \"https://imgs.xkcd.com/comics/anti_vaxxers.png\">https://imgs.xkcd.com/comics/anti_vaxxers.png</a>\n",
      "\n",
      "<div id=\"transcript\" style=\"display: none\"></div>\n",
      "</div>\n",
      "<div id=\"bottom\" class=\"box\">\n",
      "<img src=\"//imgs.xkcd.com/s/a899e84.jpg\" width=\"520\" height=\"100\" alt=\"Selected Comics\" usemap=\"#comicmap\"/>\n",
      "<map id=\"comicmap\" name=\"comicmap\">\n",
      "<area shape=\"rect\" coords=\"0,0,100,100\" href=\"/150/\" alt=\"Grownups\"/>\n",
      "<area shape=\"rect\" coords=\"104,0,204,100\" href=\"/730/\" alt=\"Circuit Diagram\"/>\n",
      "<area shape=\"rect\" coords=\"208,0,308,100\" href=\"/162/\" alt=\"Angular Momentum\"/>\n",
      "<area shape=\"rect\" coords=\"312,0,412,100\" href=\"/688/\" alt=\"Self-Description\"/>\n",
      "<area shape=\"rect\" coords=\"416,0,520,100\" href=\"/556/\" alt=\"Alternative Energy Revolution\"/>\n",
      "</map>\n",
      "<br />\n",
      "<a href=\"//xkcd.com/1732/\"><img border=0 src=\"//imgs.xkcd.com/s/temperature.png\" width=\"520\" height=\"100\" alt=\"Earth temperature timeline\"></a>\n",
      "<br />\n",
      "<div>\n",
      "<!--\n",
      "Search comic titles and transcripts:\n",
      "<script type=\"text/javascript\" src=\"//www.google.com/jsapi\"></script>\n",
      "<script type=\"text/javascript\">google.load('search', '1');google.setOnLoadCallback(function() {google.search.CustomSearchControl.attachAutoCompletion('012652707207066138651:zudjtuwe28q',document.getElementById('q'),'cse-search-box');});</script>\n",
      "<form action=\"//www.google.com/cse\" id=\"cse-search-box\">\n",
      "<div>\n",
      "<input type=\"hidden\" name=\"cx\" value=\"012652707207066138651:zudjtuwe28q\"/>\n",
      "<input type=\"hidden\" name=\"ie\" value=\"UTF-8\"/>\n",
      "<input type=\"text\" name=\"q\" id=\"q\" size=\"31\"/>\n",
      "<input type=\"submit\" name=\"sa\" value=\"Search\"/>\n",
      "</div>\n",
      "</form>\n",
      "<script type=\"text/javascript\" src=\"//www.google.com/cse/brand?form=cse-search-box&amp;lang=en\"></script>\n",
      "-->\n",
      "<a href=\"/rss.xml\">RSS Feed</a> - <a href=\"/atom.xml\">Atom Feed</a> - <a href=\"/newsletter/\">Email</a>\n",
      "</div>\n",
      "<br />\n",
      "<div id=\"comicLinks\">\n",
      "Comics I enjoy:<br/>\n",
      "        <a href=\"http://threewordphrase.com/\">Three Word Phrase</a>,\n",
      "        <a href=\"https://www.smbc-comics.com/\">SMBC</a>,\n",
      "        <a href=\"https://www.qwantz.com\">Dinosaur Comics</a>,\n",
      "        <a href=\"https://oglaf.com/\">Oglaf</a> (nsfw),\n",
      "        <a href=\"https://www.asofterworld.com\">A Softer World</a>,\n",
      "        <a href=\"https://buttersafe.com/\">Buttersafe</a>,\n",
      "        <a href=\"https://pbfcomics.com/\">Perry Bible Fellowship</a>,\n",
      "        <a href=\"https://questionablecontent.net/\">Questionable Content</a>,\n",
      "        <a href=\"http://www.buttercupfestival.com/\">Buttercup Festival</a>,\n",
      "        <a href=\"https://www.homestuck.com/\">Homestuck</a>,\n",
      "\t<a href=\"https://www.jspowerhour.com/\">Junior Scientist Power Hour</a>\n",
      "</div>\n",
      "<br />\n",
      "<div id=\"comicLinks\">\n",
      "Other things:<br/>\n",
      "        <a href=\"https://medium.com/civic-tech-thoughts-from-joshdata/so-you-want-to-reform-democracy-7f3b1ef10597\">Tips on technology and government</a>,<br /> \n",
      "        <a href=\"https://www.nytimes.com/interactive/2017/climate/what-is-climate-change.html\">Climate FAQ</a>,\n",
      "\t<a href=\"https://twitter.com/KHayhoe\">Katharine Hayhoe</a>\n",
      "</div>\n",
      "<br />\n",
      "<center>\n",
      "<div id=\"footnote\" style=\"width:70%\">xkcd.com is best viewed with Netscape Navigator 4.0 or below on a Pentium 3&plusmn;1 emulated in Javascript on an Apple IIGS<br />at a screen resolution of 1024x1. Please enable your ad blockers, disable high-heat drying, and remove your device<br />from Airplane Mode and set it to Boat Mode. For security reasons, please leave caps lock on while browsing.</div>\n",
      "</center>\n",
      "<div id=\"licenseText\">\n",
      "<p>\n",
      "This work is licensed under a\n",
      "<a href=\"https://creativecommons.org/licenses/by-nc/2.5/\">Creative Commons Attribution-NonCommercial 2.5 License</a>.\n",
      "</p><p>\n",
      "This means you're free to copy and share these comics (but not to sell them). <a rel=\"license\" href=\"/license.html\">More details</a>.</p>\n",
      "</div>\n",
      "</div>\n",
      "</body>\n",
      "<!-- Layout by Ian Clasbey, davean, and chromakode -->\n",
      "</html>\n",
      "\n",
      "\n"
     ]
    }
   ],
   "source": [
    "import requests\n",
    "\n",
    "url = 'https://xkcd.com'\n",
    "response = requests.get(url)\n",
    "\n",
    "if response.status_code == 200:\n",
    "    html_code = response.text\n",
    "    print(html_code)\n",
    "else:\n",
    "    print(f\"Failed to retrieve the HTML code. Status code: {response.status_code}\")\n"
   ]
  },
  {
   "cell_type": "code",
   "execution_count": 25,
   "id": "b3900c73-12b2-41f4-8c83-10d64fe3f682",
   "metadata": {},
   "outputs": [
    {
     "name": "stdout",
     "output_type": "stream",
     "text": [
      "Random Comic Number: 2487\n",
      "Random Comic Image URL: https://imgs.xkcd.com/comics/danger_mnemonic.png\n"
     ]
    }
   ],
   "source": [
    "\n",
    "\n",
    "response = requests.get('https://xkcd.com/info.0.json')\n",
    "latest_comic_number = response.json()['num']\n",
    "\n",
    "\n",
    "random_comic_number = random.randint(1, latest_comic_number)\n",
    "\n",
    "\n",
    "random_comic_url = f'https://xkcd.com/{random_comic_number}/info.0.json'\n",
    "response = requests.get(random_comic_url)\n",
    "\n",
    "if response.status_code == 200:\n",
    "    comic_data = response.json()\n",
    "    comic_img_url = comic_data['img']\n",
    "    print(f\"Random Comic Number: {random_comic_number}\")\n",
    "    print(f\"Random Comic Image URL: {comic_img_url}\")\n",
    "else:\n",
    "    print(f\"Failed to retrieve the random comic. Status code: {response.status_code}\")\n"
   ]
  },
  {
   "cell_type": "code",
   "execution_count": null,
   "id": "d292167a-5904-4c3c-bf98-cb5d9b14d0d7",
   "metadata": {},
   "outputs": [],
   "source": []
  }
 ],
 "metadata": {
  "kernelspec": {
   "display_name": "Python 3 (ipykernel)",
   "language": "python",
   "name": "python3"
  },
  "language_info": {
   "codemirror_mode": {
    "name": "ipython",
    "version": 3
   },
   "file_extension": ".py",
   "mimetype": "text/x-python",
   "name": "python",
   "nbconvert_exporter": "python",
   "pygments_lexer": "ipython3",
   "version": "3.10.9"
  }
 },
 "nbformat": 4,
 "nbformat_minor": 5
}
