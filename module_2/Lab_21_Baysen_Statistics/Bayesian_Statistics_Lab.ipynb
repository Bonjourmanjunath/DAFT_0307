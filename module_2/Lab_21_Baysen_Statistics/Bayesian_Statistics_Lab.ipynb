{
 "cells": [
  {
   "cell_type": "markdown",
   "metadata": {},
   "source": [
    "# Intro to Bayesian Statistics Lab\n",
    "\n",
    "Complete the following set of exercises to solidify your knowledge of Bayesian statistics and Bayesian data analysis."
   ]
  },
  {
   "cell_type": "code",
   "execution_count": 1,
   "metadata": {},
   "outputs": [],
   "source": [
    "import pandas as pd\n",
    "import numpy as np\n",
    "import matplotlib.pyplot as plt"
   ]
  },
  {
   "cell_type": "markdown",
   "metadata": {},
   "source": [
    "## 1. Cookie Problem\n",
    "\n",
    "Suppose we have two bowls of cookies. Bowl 1 contains 30 vanilla cookies and 10 chocolate cookies. Bowl 2 contains 20 of each. You randomly pick one cookie out of one of the bowls, and it is vanilla. Use Bayes Theorem to calculate the probability that the vanilla cookie you picked came from Bowl 1?"
   ]
  },
  {
   "cell_type": "code",
   "execution_count": 2,
   "metadata": {},
   "outputs": [],
   "source": [
    "import numpy as np\n",
    "\n",
    "def bayes_rule(priors, likelihoods):\n",
    "    marg = sum(np.multiply(priors, likelihoods))\n",
    "    post = np.divide(np.multiply(priors, likelihoods), marg)\n",
    "    return post"
   ]
  },
  {
   "cell_type": "code",
   "execution_count": 3,
   "metadata": {},
   "outputs": [
    {
     "data": {
      "text/plain": [
       "array([0.6, 0.4])"
      ]
     },
     "execution_count": 3,
     "metadata": {},
     "output_type": "execute_result"
    }
   ],
   "source": [
    "# bowl1\n",
    "vanilla = 30\n",
    "chocolate = 10\n",
    "# bowl2\n",
    "vanilla = 20\n",
    "chocolate - 20\n",
    "\n",
    "cookie_taken = 'Vanilla'\n",
    "\n",
    "priors = [0.5,0.5]\n",
    "likelihoods = [0.75, 0.5]\n",
    "bayes_rule(priors, likelihoods)\n"
   ]
  },
  {
   "cell_type": "code",
   "execution_count": 4,
   "metadata": {},
   "outputs": [
    {
     "data": {
      "text/plain": [
       "0.625"
      ]
     },
     "execution_count": 4,
     "metadata": {},
     "output_type": "execute_result"
    }
   ],
   "source": [
    "sum(np.multiply(priors, likelihoods))"
   ]
  },
  {
   "cell_type": "code",
   "execution_count": 5,
   "metadata": {},
   "outputs": [
    {
     "data": {
      "text/plain": [
       "array([0.375, 0.25 ])"
      ]
     },
     "execution_count": 5,
     "metadata": {},
     "output_type": "execute_result"
    }
   ],
   "source": [
    "np.multiply(priors, likelihoods)"
   ]
  },
  {
   "cell_type": "code",
   "execution_count": 6,
   "metadata": {},
   "outputs": [
    {
     "data": {
      "text/plain": [
       "array([0.6, 0.4])"
      ]
     },
     "execution_count": 6,
     "metadata": {},
     "output_type": "execute_result"
    }
   ],
   "source": [
    "np.divide(np.multiply(priors, likelihoods),0.625)"
   ]
  },
  {
   "cell_type": "markdown",
   "metadata": {},
   "source": [
    "What is the probability that it came from Bowl 2?"
   ]
  },
  {
   "cell_type": "code",
   "execution_count": null,
   "metadata": {},
   "outputs": [],
   "source": [
    "40%"
   ]
  },
  {
   "cell_type": "markdown",
   "metadata": {},
   "source": [
    "What if the cookie you had picked was chocolate? What are the probabilities that the chocolate cookie came from Bowl 1 and Bowl 2 respectively?"
   ]
  },
  {
   "cell_type": "code",
   "execution_count": 7,
   "metadata": {},
   "outputs": [
    {
     "data": {
      "text/plain": [
       "array([0.33333333, 0.66666667])"
      ]
     },
     "execution_count": 7,
     "metadata": {},
     "output_type": "execute_result"
    }
   ],
   "source": [
    "priors = [0.5,0.5]\n",
    "likelihoods = [0.25, 0.5]\n",
    "bayes_rule(priors, likelihoods)"
   ]
  },
  {
   "cell_type": "markdown",
   "metadata": {},
   "source": [
    "## 2. Candy Problem\n",
    "\n",
    "Suppose you have two bags of candies:\n",
    "\n",
    "- In Bag 1, the mix of colors is:\n",
    "    - Brown - 30%\n",
    "    - Yellow - 20%\n",
    "    - Red - 20%\n",
    "    - Green - 10%\n",
    "    - Orange - 10%\n",
    "    - Tan - 10%\n",
    "    \n",
    "- In Bag 2, the mix of colors is:\n",
    "    - Blue - 24%\n",
    "    - Green - 20%\n",
    "    - Orange - 16%\n",
    "    - Yellow - 14%\n",
    "    - Red - 13%\n",
    "    - Brown - 13%\n",
    "    \n",
    "Not knowing which bag is which, you randomly draw one candy from each bag. One is yellow and one is green. What is the probability that the yellow one came from the Bag 1?\n",
    "\n",
    "*Hint: For the likelihoods, you will need to multiply the probabilities of drawing yellow from one bag and green from the other bag and vice versa.*"
   ]
  },
  {
   "cell_type": "code",
   "execution_count": 8,
   "metadata": {},
   "outputs": [
    {
     "data": {
      "text/plain": [
       "array([0.25925926, 0.74074074])"
      ]
     },
     "execution_count": 8,
     "metadata": {},
     "output_type": "execute_result"
    }
   ],
   "source": [
    "priors = [0.5,0.5]\n",
    "likelihoods = [.14*.1, .2*.2]\n",
    "bayes_rule(priors, likelihoods)"
   ]
  },
  {
   "cell_type": "markdown",
   "metadata": {},
   "source": [
    "What is the probability that the yellow candy came from Bag 2?"
   ]
  },
  {
   "cell_type": "code",
   "execution_count": 9,
   "metadata": {},
   "outputs": [
    {
     "name": "stdout",
     "output_type": "stream",
     "text": [
      "Probability that the vanilla cookie came from Bowl 1: 0.6\n"
     ]
    }
   ],
   "source": [
    "#.26\n",
    "\n",
    "\n",
    "\n",
    "P_B1 = 0.5  \n",
    "P_B2 = 0.5  \n",
    "\n",
    "\n",
    "P_A_given_B1 = 0.75  \n",
    "P_A_given_B2 = 0.5  \n",
    "\n",
    "\n",
    "P_A = P_A_given_B1 * P_B1 + P_A_given_B2 * P_B2\n",
    "\n",
    "\n",
    "P_B1_given_A = (P_A_given_B1 * P_B1) / P_A\n",
    "\n",
    "print(\"Probability that the vanilla cookie came from Bowl 1:\", P_B1_given_A)\n"
   ]
  },
  {
   "cell_type": "markdown",
   "metadata": {},
   "source": [
    "What are the probabilities that the green one came from Bag 1 and Bag 2 respectively?"
   ]
  },
  {
   "cell_type": "code",
   "execution_count": 12,
   "metadata": {},
   "outputs": [],
   "source": [
    "#.26 & .74"
   ]
  },
  {
   "cell_type": "markdown",
   "metadata": {},
   "source": [
    "## 3. Monty Hall Problem\n",
    "\n",
    "Suppose you are a contestant on the popular game show *Let's Make a Deal*. The host of the show (Monty Hall) presents you with three doors - Door A, Door B, and Door C. He tells you that there is a sports car behind one of them and if you choose the correct one, you win the car!\n",
    "\n",
    "You select Door A, but then Monty makes things a little more interesting. He opens Door B to reveal that there is no sports car behind it and asks you if you would like to stick with your choice of Door A or switch your choice to Door C. Given this new information, what are the probabilities of you winning the car if you stick with Door A versus if you switch to Door C?"
   ]
  },
  {
   "cell_type": "code",
   "execution_count": 10,
   "metadata": {},
   "outputs": [
    {
     "name": "stdout",
     "output_type": "stream",
     "text": [
      "Probability of winning by sticking: 0.3328\n",
      "Probability of winning by switching: 0.6672\n"
     ]
    }
   ],
   "source": [
    "import random\n",
    "\n",
    "def monty_hall_simulation(num_simulations):\n",
    "    stick_wins = 0\n",
    "    switch_wins = 0\n",
    "\n",
    "    for _ in range(num_simulations):\n",
    "        # Randomly choose which door the car is behind\n",
    "        car_behind = random.randint(1, 3)\n",
    "        \n",
    "        # Contestant's initial choice\n",
    "        initial_choice = random.randint(1, 3)\n",
    "        \n",
    "        # Monty reveals an empty door\n",
    "        revealed_door = next(door for door in range(1, 4) if door != initial_choice and door != car_behind)\n",
    "        \n",
    "        # Switch to the other unchosen door\n",
    "        switched_choice = next(door for door in range(1, 4) if door != initial_choice and door != revealed_door)\n",
    "        \n",
    "        # Check if contestant wins by sticking or switching\n",
    "        if initial_choice == car_behind:\n",
    "            stick_wins += 1\n",
    "        if switched_choice == car_behind:\n",
    "            switch_wins += 1\n",
    "    \n",
    "    stick_win_probability = stick_wins / num_simulations\n",
    "    switch_win_probability = switch_wins / num_simulations\n",
    "    \n",
    "    return stick_win_probability, switch_win_probability\n",
    "\n",
    "num_simulations = 100000  # Number of simulations to run\n",
    "stick_prob, switch_prob = monty_hall_simulation(num_simulations)\n",
    "\n",
    "print(f\"Probability of winning by sticking: {stick_prob:.4f}\")\n",
    "print(f\"Probability of winning by switching: {switch_prob:.4f}\")\n"
   ]
  },
  {
   "cell_type": "markdown",
   "metadata": {},
   "source": [
    "## 4. Bayesian Analysis \n",
    "\n",
    "Suppose you work for a landscaping company, and they want to advertise their service online. They create an ad and sit back waiting for the money to roll in. On the first day, the ad sends 100 visitors to the site and 14 of them sign up for landscaping services. Create a generative model to come up with the posterior distribution and produce a visualization of what the posterior distribution would look like given the observed data."
   ]
  },
  {
   "cell_type": "code",
   "execution_count": 12,
   "metadata": {},
   "outputs": [
    {
     "data": {
      "image/png": "[encoded data removed]",
      "text/plain": [
       "<Figure size 1000x600 with 1 Axes>"
      ]
     },
     "metadata": {},
     "output_type": "display_data"
    }
   ],
   "source": [
    "from scipy.stats import beta\n",
    "\n",
    "total_visitors = 100\n",
    "conversions = 14\n",
    "\n",
    "\n",
    "prior_alpha = 1  \n",
    "prior_beta = 1   \n",
    "\n",
    "\n",
    "posterior_alpha = prior_alpha + conversions\n",
    "posterior_beta = prior_beta + total_visitors - conversions\n",
    "\n",
    "\n",
    "conversion_rates = np.linspace(0, 1, 500)\n",
    "\n",
    "\n",
    "posterior_distribution = beta.pdf(conversion_rates, posterior_alpha, posterior_beta)\n",
    "\n",
    "\n",
    "plt.figure(figsize=(10, 6))\n",
    "plt.plot(conversion_rates, beta.pdf(conversion_rates, prior_alpha, prior_beta), label='Prior')\n",
    "plt.plot(conversion_rates, posterior_distribution, label='Posterior')\n",
    "plt.xlabel('Conversion Rate')\n",
    "plt.ylabel('Probability Density')\n",
    "plt.title('Prior and Posterior Distributions of Conversion Rate')\n",
    "plt.legend()\n",
    "plt.grid(True)\n",
    "plt.show()\n"
   ]
  },
  {
   "cell_type": "markdown",
   "metadata": {},
   "source": [
    "Produce a set of descriptive statistics for the posterior distribution."
   ]
  },
  {
   "cell_type": "code",
   "execution_count": 13,
   "metadata": {},
   "outputs": [
    {
     "name": "stdout",
     "output_type": "stream",
     "text": [
      "Posterior Mean: 0.1471\n",
      "Posterior Median: 0.1447\n",
      "Posterior Mode: 0.1400\n",
      "Posterior Standard Deviation: 0.0349\n",
      "95% Credible Interval: (0.0856, 0.2216)\n"
     ]
    }
   ],
   "source": [
    "from scipy.stats import beta\n",
    "\n",
    "\n",
    "posterior_alpha = prior_alpha + conversions\n",
    "posterior_beta = prior_beta + total_visitors - conversions\n",
    "\n",
    "\n",
    "posterior_mean = beta.mean(posterior_alpha, posterior_beta)\n",
    "posterior_median = beta.median(posterior_alpha, posterior_beta)\n",
    "posterior_mode = (posterior_alpha - 1) / (posterior_alpha + posterior_beta - 2)  # Mode formula for Beta distribution\n",
    "\n",
    "\n",
    "posterior_std = beta.std(posterior_alpha, posterior_beta)\n",
    "\n",
    "\n",
    "credible_interval = beta.interval(0.95, posterior_alpha, posterior_beta)\n",
    "\n",
    "\n",
    "print(f\"Posterior Mean: {posterior_mean:.4f}\")\n",
    "print(f\"Posterior Median: {posterior_median:.4f}\")\n",
    "print(f\"Posterior Mode: {posterior_mode:.4f}\")\n",
    "print(f\"Posterior Standard Deviation: {posterior_std:.4f}\")\n",
    "print(f\"95% Credible Interval: ({credible_interval[0]:.4f}, {credible_interval[1]:.4f})\")\n"
   ]
  },
  {
   "cell_type": "markdown",
   "metadata": {},
   "source": [
    "What is the 90% credible interval range?"
   ]
  },
  {
   "cell_type": "code",
   "execution_count": 14,
   "metadata": {},
   "outputs": [
    {
     "name": "stdout",
     "output_type": "stream",
     "text": [
      "90% Credible Interval: (0.0938, 0.2082)\n"
     ]
    }
   ],
   "source": [
    "from scipy.stats import beta\n",
    "\n",
    "\n",
    "credible_interval_90 = beta.interval(0.90, posterior_alpha, posterior_beta)\n",
    "\n",
    "print(f\"90% Credible Interval: ({credible_interval_90[0]:.4f}, {credible_interval_90[1]:.4f})\")\n"
   ]
  },
  {
   "cell_type": "markdown",
   "metadata": {},
   "source": [
    "What is the Maximum Likelihood Estimate?"
   ]
  },
  {
   "cell_type": "code",
   "execution_count": 17,
   "metadata": {},
   "outputs": [
    {
     "name": "stdout",
     "output_type": "stream",
     "text": [
      "Maximum Likelihood Estimate: 0.1400\n"
     ]
    }
   ],
   "source": [
    "\n",
    "total_visitors = 100\n",
    "conversions = 14\n",
    "\n",
    "\n",
    "prior_alpha = 1\n",
    "prior_beta = 1\n",
    "\n",
    "mle = (conversions + prior_alpha - 1) / (total_visitors + prior_alpha + prior_beta - 2)\n",
    "\n",
    "# Print the MLE\n",
    "print(f\"Maximum Likelihood Estimate: {mle:.4f}\")\n"
   ]
  }
 ],
 "metadata": {
  "kernelspec": {
   "display_name": "Python 3 (ipykernel)",
   "language": "python",
   "name": "python3"
  },
  "language_info": {
   "codemirror_mode": {
    "name": "ipython",
    "version": 3
   },
   "file_extension": ".py",
   "mimetype": "text/x-python",
   "name": "python",
   "nbconvert_exporter": "python",
   "pygments_lexer": "ipython3",
   "version": "3.10.9"
  }
 },
 "nbformat": 4,
 "nbformat_minor": 4
}
