{
 "cells": [
  {
   "cell_type": "code",
   "execution_count": 2,
   "id": "5f1073e3-a9c5-4790-bdff-a4d2e85fe55d",
   "metadata": {},
   "outputs": [
    {
     "ename": "ModuleNotFoundError",
     "evalue": "No module named 'win32com'",
     "output_type": "error",
     "traceback": [
      "\u001b[0;31m---------------------------------------------------------------------------\u001b[0m",
      "\u001b[0;31mModuleNotFoundError\u001b[0m                       Traceback (most recent call last)",
      "Cell \u001b[0;32mIn[2], line 3\u001b[0m\n\u001b[1;32m      1\u001b[0m \u001b[38;5;28;01mimport\u001b[39;00m \u001b[38;5;21;01mos\u001b[39;00m\n\u001b[1;32m      2\u001b[0m \u001b[38;5;28;01mimport\u001b[39;00m \u001b[38;5;21;01mre\u001b[39;00m\n\u001b[0;32m----> 3\u001b[0m \u001b[38;5;28;01mimport\u001b[39;00m \u001b[38;5;21;01mwin32com\u001b[39;00m\u001b[38;5;21;01m.\u001b[39;00m\u001b[38;5;21;01mclient\u001b[39;00m \u001b[38;5;28;01mas\u001b[39;00m \u001b[38;5;21;01mwin32\u001b[39;00m\n\u001b[1;32m      4\u001b[0m \u001b[38;5;28;01mfrom\u001b[39;00m \u001b[38;5;21;01mfpdf\u001b[39;00m \u001b[38;5;28;01mimport\u001b[39;00m FPDF\n\u001b[1;32m      6\u001b[0m \u001b[38;5;28;01mdef\u001b[39;00m \u001b[38;5;21mconvert_outlook_mail_to_pdf\u001b[39m(output_folder):\n",
      "\u001b[0;31mModuleNotFoundError\u001b[0m: No module named 'win32com'"
     ]
    }
   ],
   "source": [
    "import os\n",
    "import re\n",
    "import win32com.client as win32\n",
    "from fpdf import FPDF\n",
    "\n",
    "def convert_outlook_mail_to_pdf(output_folder):\n",
    "    outlook = win32.Dispatch(\"Outlook.Application\").GetNamespace(\"MAPI\")\n",
    "    inbox = outlook.GetDefaultFolder(6)  # 6 represents the 'Inbox' folder\n",
    "\n",
    "    # Get all the items (emails) in the inbox\n",
    "    items = inbox.Items\n",
    "\n",
    "    for item in items:\n",
    "        if item.Class == 43:  # 43 represents a MailItem object\n",
    "            subject = item.Subject\n",
    "            # Remove any invalid characters from the subject to use it as the filename\n",
    "            filename = re.sub(r'[<>:\"/\\\\|?*]', '', subject)\n",
    "            if not filename.strip():  # If the subject has only invalid characters, create a generic filename\n",
    "                filename = f\"email_{item.EntryID}\"\n",
    "\n",
    "            # Create a PDF file\n",
    "            pdf = FPDF()\n",
    "            pdf.add_page()\n",
    "            pdf.set_auto_page_break(auto=True, margin=15)\n",
    "            pdf.set_font(\"Arial\", size=12)\n",
    "\n",
    "            # Extract email content and add it to the PDF\n",
    "            email_body = item.Body\n",
    "            pdf.multi_cell(0, 10, email_body)\n",
    "\n",
    "            # Save the PDF\n",
    "            pdf_output_path = os.path.join(output_folder, f\"{filename}.pdf\")\n",
    "            pdf.output(pdf_output_path)\n",
    "\n",
    "if __name__ == \"__main__\":\n",
    "    output_folder = \"output_folder\"  # Replace with the path to your desired output folder\n",
    "    if not os.path.exists(output_folder):\n",
    "        os.makedirs(output_folder)\n",
    "\n",
    "    convert_outlook_mail_to_pdf(output_folder)\n"
   ]
  },
  {
   "cell_type": "code",
   "execution_count": null,
   "id": "874e0d29-0a42-421d-98da-f1527856006f",
   "metadata": {},
   "outputs": [],
   "source": []
  }
 ],
 "metadata": {
  "kernelspec": {
   "display_name": "Python 3 (ipykernel)",
   "language": "python",
   "name": "python3"
  },
  "language_info": {
   "codemirror_mode": {
    "name": "ipython",
    "version": 3
   },
   "file_extension": ".py",
   "mimetype": "text/x-python",
   "name": "python",
   "nbconvert_exporter": "python",
   "pygments_lexer": "ipython3",
   "version": "3.10.9"
  }
 },
 "nbformat": 4,
 "nbformat_minor": 5
}
